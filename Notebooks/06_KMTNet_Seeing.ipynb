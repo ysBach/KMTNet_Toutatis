{
 "cells": [
  {
   "cell_type": "markdown",
   "metadata": {},
   "source": [
    "# KMTNet Seeing Analysis\n",
    "During the first revision of the draft, one of two reviewers asked about the weather condition. Dr. Chung-Uk Lee (a KMTNet member; not a co-author of this work) kindly provided detailed information about the seeing condition at each of KMTNet observatory to one of our co-author (Hong-Kyu Moon). Here I present an analysis of the data I obtained."
   ]
  },
  {
   "cell_type": "code",
   "execution_count": 1,
   "metadata": {},
   "outputs": [
    {
     "name": "stdout",
     "output_type": "stream",
     "text": [
      "This notebook was generated at 2019-05-03 10:27:19 (KST = GMT+0900) \n",
      "0 Python     3.6.8 64bit [GCC 4.2.1 Compatible Clang 4.0.1 (tags/RELEASE_401/final)]\n",
      "1 IPython    6.5.0\n",
      "2 OS         Darwin 18.2.0 x86_64 i386 64bit\n",
      "3 scipy      1.2.0\n",
      "4 numpy      1.15.4\n",
      "5 matplotlib 3.0.2\n",
      "6 pandas     0.24.1\n",
      "7 version_information 1.0.3\n"
     ]
    }
   ],
   "source": [
    "%load_ext version_information\n",
    "import time\n",
    "now = time.strftime(\"%Y-%d-%m %H:%M:%S (%Z = GMT%z)\")\n",
    "print(f\"This notebook was generated at {now} \")\n",
    "\n",
    "vv = %version_information scipy, numpy, matplotlib, pandas, version_information\n",
    "for i, pkg in enumerate(vv.packages):\n",
    "    print(f\"{i} {pkg[0]:10s} {pkg[1]:s}\")"
   ]
  },
  {
   "cell_type": "code",
   "execution_count": null,
   "metadata": {},
   "outputs": [],
   "source": []
  }
 ],
 "metadata": {
  "kernelspec": {
   "display_name": "Python 3",
   "language": "python",
   "name": "python3"
  },
  "language_info": {
   "codemirror_mode": {
    "name": "ipython",
    "version": 3
   },
   "file_extension": ".py",
   "mimetype": "text/x-python",
   "name": "python",
   "nbconvert_exporter": "python",
   "pygments_lexer": "ipython3",
   "version": "3.6.8"
  }
 },
 "nbformat": 4,
 "nbformat_minor": 2
}
